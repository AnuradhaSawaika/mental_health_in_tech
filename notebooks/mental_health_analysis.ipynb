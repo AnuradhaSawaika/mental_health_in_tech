{
 "cells": [
  {
   "cell_type": "markdown",
   "id": "272b35f2-4149-4f82-bf25-e20a3991c9fb",
   "metadata": {},
   "source": [
    "# 🧠 Mental Health in Tech – Data Analytics Project\n",
    "#### This project explores mental health trends among tech professionals using a survey dataset. It includes data cleaning, exploratory analysis, visualizations, and SQL queries to uncover actionable insights and recommendations."
   ]
  },
  {
   "cell_type": "markdown",
   "id": "05609439-a1d4-4592-92cd-ebad35854cf5",
   "metadata": {},
   "source": [
    "## 🔗 Table of Contents\n",
    "1. Introduction\n",
    "2. Data Cleaning\n",
    "3. Exploratory Analysis (Python)\n",
    "4. SQL Insights\n",
    "5. Final Summary & Business Recommendations"
   ]
  },
  {
   "cell_type": "code",
   "execution_count": 1,
   "id": "0bc94c75-e1bf-403d-adfc-578daebc075f",
   "metadata": {},
   "outputs": [],
   "source": [
    "import pandas as pd"
   ]
  },
  {
   "cell_type": "code",
   "execution_count": 2,
   "id": "0435ea2d-db2d-4814-9d82-f89867e54c42",
   "metadata": {},
   "outputs": [],
   "source": [
    "df = pd.read_csv('../data/survey.csv')"
   ]
  },
  {
   "cell_type": "code",
   "execution_count": 3,
   "id": "63173f27-105d-4ae8-8c37-2e720f878dea",
   "metadata": {},
   "outputs": [
    {
     "data": {
      "text/html": [
       "<div>\n",
       "<style scoped>\n",
       "    .dataframe tbody tr th:only-of-type {\n",
       "        vertical-align: middle;\n",
       "    }\n",
       "\n",
       "    .dataframe tbody tr th {\n",
       "        vertical-align: top;\n",
       "    }\n",
       "\n",
       "    .dataframe thead th {\n",
       "        text-align: right;\n",
       "    }\n",
       "</style>\n",
       "<table border=\"1\" class=\"dataframe\">\n",
       "  <thead>\n",
       "    <tr style=\"text-align: right;\">\n",
       "      <th></th>\n",
       "      <th>Timestamp</th>\n",
       "      <th>Age</th>\n",
       "      <th>Gender</th>\n",
       "      <th>Country</th>\n",
       "      <th>state</th>\n",
       "      <th>self_employed</th>\n",
       "      <th>family_history</th>\n",
       "      <th>treatment</th>\n",
       "      <th>work_interfere</th>\n",
       "      <th>no_employees</th>\n",
       "      <th>...</th>\n",
       "      <th>leave</th>\n",
       "      <th>mental_health_consequence</th>\n",
       "      <th>phys_health_consequence</th>\n",
       "      <th>coworkers</th>\n",
       "      <th>supervisor</th>\n",
       "      <th>mental_health_interview</th>\n",
       "      <th>phys_health_interview</th>\n",
       "      <th>mental_vs_physical</th>\n",
       "      <th>obs_consequence</th>\n",
       "      <th>comments</th>\n",
       "    </tr>\n",
       "  </thead>\n",
       "  <tbody>\n",
       "    <tr>\n",
       "      <th>0</th>\n",
       "      <td>2014-08-27 11:29:31</td>\n",
       "      <td>37</td>\n",
       "      <td>Female</td>\n",
       "      <td>United States</td>\n",
       "      <td>IL</td>\n",
       "      <td>NaN</td>\n",
       "      <td>No</td>\n",
       "      <td>Yes</td>\n",
       "      <td>Often</td>\n",
       "      <td>6-25</td>\n",
       "      <td>...</td>\n",
       "      <td>Somewhat easy</td>\n",
       "      <td>No</td>\n",
       "      <td>No</td>\n",
       "      <td>Some of them</td>\n",
       "      <td>Yes</td>\n",
       "      <td>No</td>\n",
       "      <td>Maybe</td>\n",
       "      <td>Yes</td>\n",
       "      <td>No</td>\n",
       "      <td>NaN</td>\n",
       "    </tr>\n",
       "    <tr>\n",
       "      <th>1</th>\n",
       "      <td>2014-08-27 11:29:37</td>\n",
       "      <td>44</td>\n",
       "      <td>M</td>\n",
       "      <td>United States</td>\n",
       "      <td>IN</td>\n",
       "      <td>NaN</td>\n",
       "      <td>No</td>\n",
       "      <td>No</td>\n",
       "      <td>Rarely</td>\n",
       "      <td>More than 1000</td>\n",
       "      <td>...</td>\n",
       "      <td>Don't know</td>\n",
       "      <td>Maybe</td>\n",
       "      <td>No</td>\n",
       "      <td>No</td>\n",
       "      <td>No</td>\n",
       "      <td>No</td>\n",
       "      <td>No</td>\n",
       "      <td>Don't know</td>\n",
       "      <td>No</td>\n",
       "      <td>NaN</td>\n",
       "    </tr>\n",
       "    <tr>\n",
       "      <th>2</th>\n",
       "      <td>2014-08-27 11:29:44</td>\n",
       "      <td>32</td>\n",
       "      <td>Male</td>\n",
       "      <td>Canada</td>\n",
       "      <td>NaN</td>\n",
       "      <td>NaN</td>\n",
       "      <td>No</td>\n",
       "      <td>No</td>\n",
       "      <td>Rarely</td>\n",
       "      <td>6-25</td>\n",
       "      <td>...</td>\n",
       "      <td>Somewhat difficult</td>\n",
       "      <td>No</td>\n",
       "      <td>No</td>\n",
       "      <td>Yes</td>\n",
       "      <td>Yes</td>\n",
       "      <td>Yes</td>\n",
       "      <td>Yes</td>\n",
       "      <td>No</td>\n",
       "      <td>No</td>\n",
       "      <td>NaN</td>\n",
       "    </tr>\n",
       "    <tr>\n",
       "      <th>3</th>\n",
       "      <td>2014-08-27 11:29:46</td>\n",
       "      <td>31</td>\n",
       "      <td>Male</td>\n",
       "      <td>United Kingdom</td>\n",
       "      <td>NaN</td>\n",
       "      <td>NaN</td>\n",
       "      <td>Yes</td>\n",
       "      <td>Yes</td>\n",
       "      <td>Often</td>\n",
       "      <td>26-100</td>\n",
       "      <td>...</td>\n",
       "      <td>Somewhat difficult</td>\n",
       "      <td>Yes</td>\n",
       "      <td>Yes</td>\n",
       "      <td>Some of them</td>\n",
       "      <td>No</td>\n",
       "      <td>Maybe</td>\n",
       "      <td>Maybe</td>\n",
       "      <td>No</td>\n",
       "      <td>Yes</td>\n",
       "      <td>NaN</td>\n",
       "    </tr>\n",
       "    <tr>\n",
       "      <th>4</th>\n",
       "      <td>2014-08-27 11:30:22</td>\n",
       "      <td>31</td>\n",
       "      <td>Male</td>\n",
       "      <td>United States</td>\n",
       "      <td>TX</td>\n",
       "      <td>NaN</td>\n",
       "      <td>No</td>\n",
       "      <td>No</td>\n",
       "      <td>Never</td>\n",
       "      <td>100-500</td>\n",
       "      <td>...</td>\n",
       "      <td>Don't know</td>\n",
       "      <td>No</td>\n",
       "      <td>No</td>\n",
       "      <td>Some of them</td>\n",
       "      <td>Yes</td>\n",
       "      <td>Yes</td>\n",
       "      <td>Yes</td>\n",
       "      <td>Don't know</td>\n",
       "      <td>No</td>\n",
       "      <td>NaN</td>\n",
       "    </tr>\n",
       "  </tbody>\n",
       "</table>\n",
       "<p>5 rows × 27 columns</p>\n",
       "</div>"
      ],
      "text/plain": [
       "             Timestamp  Age  Gender         Country state self_employed  \\\n",
       "0  2014-08-27 11:29:31   37  Female   United States    IL           NaN   \n",
       "1  2014-08-27 11:29:37   44       M   United States    IN           NaN   \n",
       "2  2014-08-27 11:29:44   32    Male          Canada   NaN           NaN   \n",
       "3  2014-08-27 11:29:46   31    Male  United Kingdom   NaN           NaN   \n",
       "4  2014-08-27 11:30:22   31    Male   United States    TX           NaN   \n",
       "\n",
       "  family_history treatment work_interfere    no_employees  ...  \\\n",
       "0             No       Yes          Often            6-25  ...   \n",
       "1             No        No         Rarely  More than 1000  ...   \n",
       "2             No        No         Rarely            6-25  ...   \n",
       "3            Yes       Yes          Often          26-100  ...   \n",
       "4             No        No          Never         100-500  ...   \n",
       "\n",
       "                leave mental_health_consequence phys_health_consequence  \\\n",
       "0       Somewhat easy                        No                      No   \n",
       "1          Don't know                     Maybe                      No   \n",
       "2  Somewhat difficult                        No                      No   \n",
       "3  Somewhat difficult                       Yes                     Yes   \n",
       "4          Don't know                        No                      No   \n",
       "\n",
       "      coworkers supervisor mental_health_interview phys_health_interview  \\\n",
       "0  Some of them        Yes                      No                 Maybe   \n",
       "1            No         No                      No                    No   \n",
       "2           Yes        Yes                     Yes                   Yes   \n",
       "3  Some of them         No                   Maybe                 Maybe   \n",
       "4  Some of them        Yes                     Yes                   Yes   \n",
       "\n",
       "  mental_vs_physical obs_consequence comments  \n",
       "0                Yes              No      NaN  \n",
       "1         Don't know              No      NaN  \n",
       "2                 No              No      NaN  \n",
       "3                 No             Yes      NaN  \n",
       "4         Don't know              No      NaN  \n",
       "\n",
       "[5 rows x 27 columns]"
      ]
     },
     "execution_count": 3,
     "metadata": {},
     "output_type": "execute_result"
    }
   ],
   "source": [
    "df.head()"
   ]
  },
  {
   "cell_type": "markdown",
   "id": "3bcdd1fa-6d91-489c-852c-f630f13899ad",
   "metadata": {},
   "source": [
    "# Data Preprocessing"
   ]
  },
  {
   "cell_type": "code",
   "execution_count": 4,
   "id": "c6620a05-33a7-4104-b33f-bf98e611c082",
   "metadata": {},
   "outputs": [
    {
     "name": "stdout",
     "output_type": "stream",
     "text": [
      "<class 'pandas.core.frame.DataFrame'>\n",
      "RangeIndex: 1259 entries, 0 to 1258\n",
      "Data columns (total 27 columns):\n",
      " #   Column                     Non-Null Count  Dtype \n",
      "---  ------                     --------------  ----- \n",
      " 0   Timestamp                  1259 non-null   object\n",
      " 1   Age                        1259 non-null   int64 \n",
      " 2   Gender                     1259 non-null   object\n",
      " 3   Country                    1259 non-null   object\n",
      " 4   state                      744 non-null    object\n",
      " 5   self_employed              1241 non-null   object\n",
      " 6   family_history             1259 non-null   object\n",
      " 7   treatment                  1259 non-null   object\n",
      " 8   work_interfere             995 non-null    object\n",
      " 9   no_employees               1259 non-null   object\n",
      " 10  remote_work                1259 non-null   object\n",
      " 11  tech_company               1259 non-null   object\n",
      " 12  benefits                   1259 non-null   object\n",
      " 13  care_options               1259 non-null   object\n",
      " 14  wellness_program           1259 non-null   object\n",
      " 15  seek_help                  1259 non-null   object\n",
      " 16  anonymity                  1259 non-null   object\n",
      " 17  leave                      1259 non-null   object\n",
      " 18  mental_health_consequence  1259 non-null   object\n",
      " 19  phys_health_consequence    1259 non-null   object\n",
      " 20  coworkers                  1259 non-null   object\n",
      " 21  supervisor                 1259 non-null   object\n",
      " 22  mental_health_interview    1259 non-null   object\n",
      " 23  phys_health_interview      1259 non-null   object\n",
      " 24  mental_vs_physical         1259 non-null   object\n",
      " 25  obs_consequence            1259 non-null   object\n",
      " 26  comments                   164 non-null    object\n",
      "dtypes: int64(1), object(26)\n",
      "memory usage: 265.7+ KB\n"
     ]
    }
   ],
   "source": [
    "df.info()"
   ]
  },
  {
   "cell_type": "markdown",
   "id": "83022453-7d77-4b85-b551-bae02fbd7e99",
   "metadata": {},
   "source": [
    "### Checking for Null Values"
   ]
  },
  {
   "cell_type": "code",
   "execution_count": 5,
   "id": "412d0acb-eab3-4f68-8fc8-aaaaa4edef54",
   "metadata": {},
   "outputs": [
    {
     "data": {
      "text/plain": [
       "Timestamp                       0\n",
       "Age                             0\n",
       "Gender                          0\n",
       "Country                         0\n",
       "state                         515\n",
       "self_employed                  18\n",
       "family_history                  0\n",
       "treatment                       0\n",
       "work_interfere                264\n",
       "no_employees                    0\n",
       "remote_work                     0\n",
       "tech_company                    0\n",
       "benefits                        0\n",
       "care_options                    0\n",
       "wellness_program                0\n",
       "seek_help                       0\n",
       "anonymity                       0\n",
       "leave                           0\n",
       "mental_health_consequence       0\n",
       "phys_health_consequence         0\n",
       "coworkers                       0\n",
       "supervisor                      0\n",
       "mental_health_interview         0\n",
       "phys_health_interview           0\n",
       "mental_vs_physical              0\n",
       "obs_consequence                 0\n",
       "comments                     1095\n",
       "dtype: int64"
      ]
     },
     "execution_count": 5,
     "metadata": {},
     "output_type": "execute_result"
    }
   ],
   "source": [
    "df.isnull().sum()"
   ]
  },
  {
   "cell_type": "markdown",
   "id": "60e2a2c1-1d34-42a6-a8a7-0e3b1afc4fa4",
   "metadata": {},
   "source": [
    "### Dropping the irrelevant columns"
   ]
  },
  {
   "cell_type": "code",
   "execution_count": 6,
   "id": "826ae686-89da-4fce-a0f4-d10d52e00b67",
   "metadata": {},
   "outputs": [],
   "source": [
    "df.drop(['state','comments'],axis =1, inplace = True) "
   ]
  },
  {
   "cell_type": "code",
   "execution_count": 7,
   "id": "62d0cda7-be43-4b3d-9fdc-fb42930ef8c8",
   "metadata": {},
   "outputs": [
    {
     "data": {
      "text/plain": [
       "Index(['Timestamp', 'Age', 'Gender', 'Country', 'self_employed',\n",
       "       'family_history', 'treatment', 'work_interfere', 'no_employees',\n",
       "       'remote_work', 'tech_company', 'benefits', 'care_options',\n",
       "       'wellness_program', 'seek_help', 'anonymity', 'leave',\n",
       "       'mental_health_consequence', 'phys_health_consequence', 'coworkers',\n",
       "       'supervisor', 'mental_health_interview', 'phys_health_interview',\n",
       "       'mental_vs_physical', 'obs_consequence'],\n",
       "      dtype='object')"
      ]
     },
     "execution_count": 7,
     "metadata": {},
     "output_type": "execute_result"
    }
   ],
   "source": [
    "df.columns"
   ]
  },
  {
   "cell_type": "markdown",
   "id": "3fe69268-ebcc-48eb-8700-e7bfda9fbd90",
   "metadata": {},
   "source": [
    "### Filling missing Values"
   ]
  },
  {
   "cell_type": "code",
   "execution_count": 8,
   "id": "eb13d2cb-352b-43aa-af80-2be19ab23bba",
   "metadata": {},
   "outputs": [],
   "source": [
    "df['self_employed'] = df['self_employed'].fillna('Prefer not to say')"
   ]
  },
  {
   "cell_type": "code",
   "execution_count": 9,
   "id": "f295bbee-cace-4294-a6ce-5753e815793d",
   "metadata": {},
   "outputs": [],
   "source": [
    "df['work_interfere'] = df['work_interfere'].fillna(\"Don't Know\")"
   ]
  },
  {
   "cell_type": "code",
   "execution_count": 10,
   "id": "7d887c6e-6d7e-4adf-96c8-78da7e1d75e5",
   "metadata": {},
   "outputs": [
    {
     "data": {
      "text/plain": [
       "Timestamp                    0\n",
       "Age                          0\n",
       "Gender                       0\n",
       "Country                      0\n",
       "self_employed                0\n",
       "family_history               0\n",
       "treatment                    0\n",
       "work_interfere               0\n",
       "no_employees                 0\n",
       "remote_work                  0\n",
       "tech_company                 0\n",
       "benefits                     0\n",
       "care_options                 0\n",
       "wellness_program             0\n",
       "seek_help                    0\n",
       "anonymity                    0\n",
       "leave                        0\n",
       "mental_health_consequence    0\n",
       "phys_health_consequence      0\n",
       "coworkers                    0\n",
       "supervisor                   0\n",
       "mental_health_interview      0\n",
       "phys_health_interview        0\n",
       "mental_vs_physical           0\n",
       "obs_consequence              0\n",
       "dtype: int64"
      ]
     },
     "execution_count": 10,
     "metadata": {},
     "output_type": "execute_result"
    }
   ],
   "source": [
    "df.isnull().sum()"
   ]
  },
  {
   "cell_type": "markdown",
   "id": "aee16903-3f5f-4ac0-951f-617321f21f8d",
   "metadata": {},
   "source": [
    "### Checking the values in age column & keeping it between 18 and 65"
   ]
  },
  {
   "cell_type": "code",
   "execution_count": 11,
   "id": "30ad85f7-73e7-4576-b66e-c14b720771ff",
   "metadata": {},
   "outputs": [
    {
     "data": {
      "text/plain": [
       "array([         37,          44,          32,          31,          33,\n",
       "                35,          39,          42,          23,          29,\n",
       "                36,          27,          46,          41,          34,\n",
       "                30,          40,          38,          50,          24,\n",
       "                18,          28,          26,          22,          19,\n",
       "                25,          45,          21,         -29,          43,\n",
       "                56,          60,          54,         329,          55,\n",
       "       99999999999,          48,          20,          57,          58,\n",
       "                47,          62,          51,          65,          49,\n",
       "             -1726,           5,          53,          61,           8,\n",
       "                11,          -1,          72])"
      ]
     },
     "execution_count": 11,
     "metadata": {},
     "output_type": "execute_result"
    }
   ],
   "source": [
    "df['Age'].unique()"
   ]
  },
  {
   "cell_type": "code",
   "execution_count": 12,
   "id": "ca05d0bf-a748-4561-aa82-35ee447e661d",
   "metadata": {},
   "outputs": [],
   "source": [
    "df = df[(df['Age'] >= 18) & (df['Age'] <= 65)].copy()"
   ]
  },
  {
   "cell_type": "code",
   "execution_count": 13,
   "id": "287fbc11-58a9-4ebe-802b-95e5f5e786fa",
   "metadata": {},
   "outputs": [
    {
     "data": {
      "text/plain": [
       "array([37, 44, 32, 31, 33, 35, 39, 42, 23, 29, 36, 27, 46, 41, 34, 30, 40,\n",
       "       38, 50, 24, 18, 28, 26, 22, 19, 25, 45, 21, 43, 56, 60, 54, 55, 48,\n",
       "       20, 57, 58, 47, 62, 51, 65, 49, 53, 61])"
      ]
     },
     "execution_count": 13,
     "metadata": {},
     "output_type": "execute_result"
    }
   ],
   "source": [
    "df['Age'].unique()"
   ]
  },
  {
   "cell_type": "markdown",
   "id": "eaee88ba-256f-462a-9a9e-5ce0ec2b6758",
   "metadata": {},
   "source": [
    "### Checking for Gender column and converting all the diiferent value of same class into one"
   ]
  },
  {
   "cell_type": "code",
   "execution_count": 14,
   "id": "4c5968fc-fe23-4705-9859-3e579acf88df",
   "metadata": {},
   "outputs": [
    {
     "data": {
      "text/plain": [
       "array(['Female', 'M', 'Male', 'male', 'female', 'm', 'Male-ish', 'maile',\n",
       "       'Trans-female', 'Cis Female', 'F', 'something kinda male?',\n",
       "       'Cis Male', 'Woman', 'f', 'Mal', 'Male (CIS)', 'queer/she/they',\n",
       "       'non-binary', 'Femake', 'woman', 'Make', 'Nah', 'Enby', 'fluid',\n",
       "       'Genderqueer', 'Female ', 'Androgyne', 'Agender',\n",
       "       'cis-female/femme', 'Guy (-ish) ^_^', 'male leaning androgynous',\n",
       "       'Male ', 'Man', 'Trans woman', 'msle', 'Neuter', 'Female (trans)',\n",
       "       'queer', 'Female (cis)', 'Mail', 'cis male', 'Malr', 'femail',\n",
       "       'Cis Man', 'ostensibly male, unsure what that really means'],\n",
       "      dtype=object)"
      ]
     },
     "execution_count": 14,
     "metadata": {},
     "output_type": "execute_result"
    }
   ],
   "source": [
    "df['Gender'].unique()"
   ]
  },
  {
   "cell_type": "code",
   "execution_count": 15,
   "id": "8610572d-5b81-4d22-a5c0-271045cbba67",
   "metadata": {},
   "outputs": [],
   "source": [
    "# Convert to lowercase and strip whitespace\n",
    "df['Gender'] = df['Gender'].str.lower().str.strip()\n",
    "\n",
    "# Define Mappings\n",
    "male_terms = ['male', 'm', 'man', 'male-ish', 'cis male', 'cis man', 'msle', 'mal', 'maile', 'male (cis)', 'make', 'malr', 'mail', 'guy (-ish) ^_^', 'ostensibly male, unsure what that really means']\n",
    "female_terms = ['female', 'f', 'woman', 'cis female', 'cis-female/femme', 'femake', 'female (cis)', 'female (trans)', 'trans-female', 'trans woman', 'female ']\n",
    "other_terms = ['non-binary', 'queer', 'queer/she/they', 'fluid', 'genderqueer', 'neuter', 'androgyne', 'agender', 'something kinda male?', 'male leaning androgynous', 'nah', 'enby']\n",
    "\n",
    "# Map Terms\n",
    "def clean_gender(g):\n",
    "    if g in male_terms:\n",
    "        return 'male'\n",
    "    elif g in female_terms:\n",
    "        return 'female'\n",
    "    elif g in other_terms:\n",
    "        return 'other'\n",
    "    else:\n",
    "        return 'other'\n",
    "\n",
    "df['Gender'] = df['Gender'].apply(clean_gender)"
   ]
  },
  {
   "cell_type": "code",
   "execution_count": 16,
   "id": "be6439fd-a18e-4d0b-b1b4-f6d94f540f60",
   "metadata": {},
   "outputs": [
    {
     "data": {
      "text/plain": [
       "Gender\n",
       "male      988\n",
       "female    249\n",
       "other      13\n",
       "Name: count, dtype: int64"
      ]
     },
     "execution_count": 16,
     "metadata": {},
     "output_type": "execute_result"
    }
   ],
   "source": [
    "df['Gender'].value_counts()"
   ]
  },
  {
   "cell_type": "markdown",
   "id": "f5721fcb-9133-4fd8-9528-7f3ec42569b1",
   "metadata": {},
   "source": [
    "## Checking for duplicate values"
   ]
  },
  {
   "cell_type": "code",
   "execution_count": 17,
   "id": "95919bc3-a6c0-41d9-800c-b77d1bd7b89b",
   "metadata": {},
   "outputs": [
    {
     "data": {
      "text/plain": [
       "np.int64(0)"
      ]
     },
     "execution_count": 17,
     "metadata": {},
     "output_type": "execute_result"
    }
   ],
   "source": [
    "df.duplicated().sum()"
   ]
  },
  {
   "cell_type": "markdown",
   "id": "aa6e5861-7b11-4e23-8585-4ae81da497a8",
   "metadata": {},
   "source": [
    "### Checking the unique values in each column to convert it into categorical type"
   ]
  },
  {
   "cell_type": "code",
   "execution_count": 18,
   "id": "e5de6de7-1efd-455e-92a8-80b1daacd4ae",
   "metadata": {},
   "outputs": [
    {
     "data": {
      "text/plain": [
       "Gender                                                   [female, male, other]\n",
       "Country                      [United States, Canada, United Kingdom, Bulgar...\n",
       "self_employed                                     [Prefer not to say, Yes, No]\n",
       "family_history                                                       [No, Yes]\n",
       "treatment                                                            [Yes, No]\n",
       "work_interfere                   [Often, Rarely, Never, Sometimes, Don't Know]\n",
       "no_employees                 [6-25, More than 1000, 26-100, 100-500, 1-5, 5...\n",
       "remote_work                                                          [No, Yes]\n",
       "tech_company                                                         [Yes, No]\n",
       "benefits                                                 [Yes, Don't know, No]\n",
       "care_options                                               [Not sure, No, Yes]\n",
       "wellness_program                                         [No, Don't know, Yes]\n",
       "seek_help                                                [Yes, Don't know, No]\n",
       "anonymity                                                [Yes, Don't know, No]\n",
       "leave                        [Somewhat easy, Don't know, Somewhat difficult...\n",
       "mental_health_consequence                                     [No, Maybe, Yes]\n",
       "phys_health_consequence                                       [No, Yes, Maybe]\n",
       "coworkers                                              [Some of them, No, Yes]\n",
       "supervisor                                             [Yes, No, Some of them]\n",
       "mental_health_interview                                       [No, Yes, Maybe]\n",
       "phys_health_interview                                         [Maybe, No, Yes]\n",
       "mental_vs_physical                                       [Yes, Don't know, No]\n",
       "obs_consequence                                                      [No, Yes]\n",
       "dtype: object"
      ]
     },
     "execution_count": 18,
     "metadata": {},
     "output_type": "execute_result"
    }
   ],
   "source": [
    "df[['Gender', 'Country', 'self_employed', 'family_history', 'treatment', 'work_interfere', 'no_employees','remote_work', 'tech_company', 'benefits', 'care_options',\n",
    "'wellness_program', 'seek_help', 'anonymity', 'leave', 'mental_health_consequence', 'phys_health_consequence', 'coworkers', 'supervisor', 'mental_health_interview', \n",
    "'phys_health_interview', 'mental_vs_physical', 'obs_consequence']].apply(pd.Series.unique)"
   ]
  },
  {
   "cell_type": "code",
   "execution_count": 19,
   "id": "14dc5e1f-1a38-4d33-a975-e87c64ce9145",
   "metadata": {},
   "outputs": [
    {
     "data": {
      "text/plain": [
       "array(['Somewhat easy', \"Don't know\", 'Somewhat difficult',\n",
       "       'Very difficult', 'Very easy'], dtype=object)"
      ]
     },
     "execution_count": 19,
     "metadata": {},
     "output_type": "execute_result"
    }
   ],
   "source": [
    "df['leave'].unique()"
   ]
  },
  {
   "cell_type": "markdown",
   "id": "1e68ded0-7889-48c8-b6b9-4d1d9544494d",
   "metadata": {},
   "source": [
    "## Converting columns to Categorical"
   ]
  },
  {
   "cell_type": "code",
   "execution_count": 20,
   "id": "84372c00-9a45-4f37-ac45-24cf548cc6f2",
   "metadata": {},
   "outputs": [],
   "source": [
    "cat_columns = ['Gender', 'self_employed','family_history', 'treatment', 'remote_work', 'tech_company', 'benefits', 'care_options', 'wellness_program',\n",
    "'seek_help', 'anonymity', 'mental_health_consequence', 'phys_health_consequence', 'coworkers','supervisor', 'mental_health_interview', 'phys_health_interview',\n",
    "'mental_vs_physical', 'obs_consequence', 'Country']\n",
    "\n",
    "for column in cat_columns:\n",
    "    df[column] = df[column].astype('category')"
   ]
  },
  {
   "cell_type": "code",
   "execution_count": 21,
   "id": "b7044475-e223-42b2-98ae-8b8033fd8509",
   "metadata": {},
   "outputs": [],
   "source": [
    "# Converting work_interfere to Categorical\n",
    "\n",
    "from pandas.api.types import CategoricalDtype\n",
    "\n",
    "order = ['Never', 'Rarely', 'Sometimes', 'Often', \"Don't know\"]\n",
    "cat_type = CategoricalDtype(categories=order, ordered=True)\n",
    "\n",
    "df['work_interfere'] = df['work_interfere'].astype(cat_type)"
   ]
  },
  {
   "cell_type": "code",
   "execution_count": 22,
   "id": "3d9cfeb7-1fb4-4932-ba0c-81223ba35a14",
   "metadata": {},
   "outputs": [],
   "source": [
    "# Converting leave to categorical\n",
    "\n",
    "order = ['Very difficult', 'Somewhat difficult', 'Somewhat easy', 'Very easy', \"Don't know\"]\n",
    "cat_type = CategoricalDtype(categories=order, ordered=True)\n",
    "\n",
    "df['leave'] = df['leave'].astype(cat_type)\n"
   ]
  },
  {
   "cell_type": "markdown",
   "id": "e1cc6c67-4b19-4c91-96c0-48d5c857f6ad",
   "metadata": {},
   "source": [
    "### Adding a column based on Age group"
   ]
  },
  {
   "cell_type": "code",
   "execution_count": 23,
   "id": "829c2af7-6716-466a-83a6-6929a7cb63be",
   "metadata": {},
   "outputs": [],
   "source": [
    "def age_group(age):\n",
    "    if age < 25:\n",
    "        return '18–24'\n",
    "    elif age < 35:\n",
    "        return '25–34'\n",
    "    elif age < 50:\n",
    "        return '35–49'\n",
    "    else:\n",
    "        return '50+'\n",
    "\n",
    "df['age_group'] = df['Age'].apply(age_group)\n"
   ]
  },
  {
   "cell_type": "code",
   "execution_count": 24,
   "id": "0c5895f4-69df-45db-9273-59256d143987",
   "metadata": {},
   "outputs": [
    {
     "data": {
      "text/html": [
       "<div>\n",
       "<style scoped>\n",
       "    .dataframe tbody tr th:only-of-type {\n",
       "        vertical-align: middle;\n",
       "    }\n",
       "\n",
       "    .dataframe tbody tr th {\n",
       "        vertical-align: top;\n",
       "    }\n",
       "\n",
       "    .dataframe thead th {\n",
       "        text-align: right;\n",
       "    }\n",
       "</style>\n",
       "<table border=\"1\" class=\"dataframe\">\n",
       "  <thead>\n",
       "    <tr style=\"text-align: right;\">\n",
       "      <th></th>\n",
       "      <th>Timestamp</th>\n",
       "      <th>Age</th>\n",
       "      <th>Gender</th>\n",
       "      <th>Country</th>\n",
       "      <th>self_employed</th>\n",
       "      <th>family_history</th>\n",
       "      <th>treatment</th>\n",
       "      <th>work_interfere</th>\n",
       "      <th>no_employees</th>\n",
       "      <th>remote_work</th>\n",
       "      <th>...</th>\n",
       "      <th>leave</th>\n",
       "      <th>mental_health_consequence</th>\n",
       "      <th>phys_health_consequence</th>\n",
       "      <th>coworkers</th>\n",
       "      <th>supervisor</th>\n",
       "      <th>mental_health_interview</th>\n",
       "      <th>phys_health_interview</th>\n",
       "      <th>mental_vs_physical</th>\n",
       "      <th>obs_consequence</th>\n",
       "      <th>age_group</th>\n",
       "    </tr>\n",
       "  </thead>\n",
       "  <tbody>\n",
       "    <tr>\n",
       "      <th>0</th>\n",
       "      <td>2014-08-27 11:29:31</td>\n",
       "      <td>37</td>\n",
       "      <td>female</td>\n",
       "      <td>United States</td>\n",
       "      <td>Prefer not to say</td>\n",
       "      <td>No</td>\n",
       "      <td>Yes</td>\n",
       "      <td>Often</td>\n",
       "      <td>6-25</td>\n",
       "      <td>No</td>\n",
       "      <td>...</td>\n",
       "      <td>Somewhat easy</td>\n",
       "      <td>No</td>\n",
       "      <td>No</td>\n",
       "      <td>Some of them</td>\n",
       "      <td>Yes</td>\n",
       "      <td>No</td>\n",
       "      <td>Maybe</td>\n",
       "      <td>Yes</td>\n",
       "      <td>No</td>\n",
       "      <td>35–49</td>\n",
       "    </tr>\n",
       "    <tr>\n",
       "      <th>1</th>\n",
       "      <td>2014-08-27 11:29:37</td>\n",
       "      <td>44</td>\n",
       "      <td>male</td>\n",
       "      <td>United States</td>\n",
       "      <td>Prefer not to say</td>\n",
       "      <td>No</td>\n",
       "      <td>No</td>\n",
       "      <td>Rarely</td>\n",
       "      <td>More than 1000</td>\n",
       "      <td>No</td>\n",
       "      <td>...</td>\n",
       "      <td>Don't know</td>\n",
       "      <td>Maybe</td>\n",
       "      <td>No</td>\n",
       "      <td>No</td>\n",
       "      <td>No</td>\n",
       "      <td>No</td>\n",
       "      <td>No</td>\n",
       "      <td>Don't know</td>\n",
       "      <td>No</td>\n",
       "      <td>35–49</td>\n",
       "    </tr>\n",
       "    <tr>\n",
       "      <th>2</th>\n",
       "      <td>2014-08-27 11:29:44</td>\n",
       "      <td>32</td>\n",
       "      <td>male</td>\n",
       "      <td>Canada</td>\n",
       "      <td>Prefer not to say</td>\n",
       "      <td>No</td>\n",
       "      <td>No</td>\n",
       "      <td>Rarely</td>\n",
       "      <td>6-25</td>\n",
       "      <td>No</td>\n",
       "      <td>...</td>\n",
       "      <td>Somewhat difficult</td>\n",
       "      <td>No</td>\n",
       "      <td>No</td>\n",
       "      <td>Yes</td>\n",
       "      <td>Yes</td>\n",
       "      <td>Yes</td>\n",
       "      <td>Yes</td>\n",
       "      <td>No</td>\n",
       "      <td>No</td>\n",
       "      <td>25–34</td>\n",
       "    </tr>\n",
       "    <tr>\n",
       "      <th>3</th>\n",
       "      <td>2014-08-27 11:29:46</td>\n",
       "      <td>31</td>\n",
       "      <td>male</td>\n",
       "      <td>United Kingdom</td>\n",
       "      <td>Prefer not to say</td>\n",
       "      <td>Yes</td>\n",
       "      <td>Yes</td>\n",
       "      <td>Often</td>\n",
       "      <td>26-100</td>\n",
       "      <td>No</td>\n",
       "      <td>...</td>\n",
       "      <td>Somewhat difficult</td>\n",
       "      <td>Yes</td>\n",
       "      <td>Yes</td>\n",
       "      <td>Some of them</td>\n",
       "      <td>No</td>\n",
       "      <td>Maybe</td>\n",
       "      <td>Maybe</td>\n",
       "      <td>No</td>\n",
       "      <td>Yes</td>\n",
       "      <td>25–34</td>\n",
       "    </tr>\n",
       "    <tr>\n",
       "      <th>4</th>\n",
       "      <td>2014-08-27 11:30:22</td>\n",
       "      <td>31</td>\n",
       "      <td>male</td>\n",
       "      <td>United States</td>\n",
       "      <td>Prefer not to say</td>\n",
       "      <td>No</td>\n",
       "      <td>No</td>\n",
       "      <td>Never</td>\n",
       "      <td>100-500</td>\n",
       "      <td>Yes</td>\n",
       "      <td>...</td>\n",
       "      <td>Don't know</td>\n",
       "      <td>No</td>\n",
       "      <td>No</td>\n",
       "      <td>Some of them</td>\n",
       "      <td>Yes</td>\n",
       "      <td>Yes</td>\n",
       "      <td>Yes</td>\n",
       "      <td>Don't know</td>\n",
       "      <td>No</td>\n",
       "      <td>25–34</td>\n",
       "    </tr>\n",
       "  </tbody>\n",
       "</table>\n",
       "<p>5 rows × 26 columns</p>\n",
       "</div>"
      ],
      "text/plain": [
       "             Timestamp  Age  Gender         Country      self_employed  \\\n",
       "0  2014-08-27 11:29:31   37  female   United States  Prefer not to say   \n",
       "1  2014-08-27 11:29:37   44    male   United States  Prefer not to say   \n",
       "2  2014-08-27 11:29:44   32    male          Canada  Prefer not to say   \n",
       "3  2014-08-27 11:29:46   31    male  United Kingdom  Prefer not to say   \n",
       "4  2014-08-27 11:30:22   31    male   United States  Prefer not to say   \n",
       "\n",
       "  family_history treatment work_interfere    no_employees remote_work  ...  \\\n",
       "0             No       Yes          Often            6-25          No  ...   \n",
       "1             No        No         Rarely  More than 1000          No  ...   \n",
       "2             No        No         Rarely            6-25          No  ...   \n",
       "3            Yes       Yes          Often          26-100          No  ...   \n",
       "4             No        No          Never         100-500         Yes  ...   \n",
       "\n",
       "                leave mental_health_consequence phys_health_consequence  \\\n",
       "0       Somewhat easy                        No                      No   \n",
       "1          Don't know                     Maybe                      No   \n",
       "2  Somewhat difficult                        No                      No   \n",
       "3  Somewhat difficult                       Yes                     Yes   \n",
       "4          Don't know                        No                      No   \n",
       "\n",
       "      coworkers supervisor mental_health_interview phys_health_interview  \\\n",
       "0  Some of them        Yes                      No                 Maybe   \n",
       "1            No         No                      No                    No   \n",
       "2           Yes        Yes                     Yes                   Yes   \n",
       "3  Some of them         No                   Maybe                 Maybe   \n",
       "4  Some of them        Yes                     Yes                   Yes   \n",
       "\n",
       "  mental_vs_physical obs_consequence age_group  \n",
       "0                Yes              No     35–49  \n",
       "1         Don't know              No     35–49  \n",
       "2                 No              No     25–34  \n",
       "3                 No             Yes     25–34  \n",
       "4         Don't know              No     25–34  \n",
       "\n",
       "[5 rows x 26 columns]"
      ]
     },
     "execution_count": 24,
     "metadata": {},
     "output_type": "execute_result"
    }
   ],
   "source": [
    "df.head()"
   ]
  },
  {
   "cell_type": "markdown",
   "id": "0fd06f36-39e9-46ea-9ce5-b8a9cca8cab4",
   "metadata": {},
   "source": [
    "# EDA"
   ]
  },
  {
   "cell_type": "code",
   "execution_count": 25,
   "id": "9d2f681f-0bea-4bd9-941e-727e7b6a0a1f",
   "metadata": {},
   "outputs": [],
   "source": [
    "import seaborn as sns\n",
    "import matplotlib.pyplot as plt"
   ]
  },
  {
   "cell_type": "markdown",
   "id": "080fe27b-5af9-44f8-9b04-b54e6a35aaf9",
   "metadata": {},
   "source": [
    "#### Overall Treatment Distribution"
   ]
  },
  {
   "cell_type": "code",
   "execution_count": 26,
   "id": "31292d4d-b709-4374-be6c-91c8a3a8d860",
   "metadata": {},
   "outputs": [
    {
     "name": "stderr",
     "output_type": "stream",
     "text": [
      "C:\\Users\\lenovo\\AppData\\Local\\Temp\\ipykernel_3848\\2107346664.py:2: FutureWarning: \n",
      "\n",
      "Passing `palette` without assigning `hue` is deprecated and will be removed in v0.14.0. Assign the `x` variable to `hue` and set `legend=False` for the same effect.\n",
      "\n",
      "  sns.countplot(data = df, x = 'treatment', palette = 'Set2')\n"
     ]
    },
    {
     "data": {
      "image/png": "[encoded data removed]",
      "text/plain": [
       "<Figure size 600x400 with 1 Axes>"
      ]
     },
     "metadata": {},
     "output_type": "display_data"
    }
   ],
   "source": [
    "plt.figure(figsize = (6,4))\n",
    "sns.countplot(data = df, x = 'treatment', palette = 'Set2')\n",
    "plt.title('Overall Distribution: Sought Mental Health Treatment')\n",
    "plt.xlabel('Sought Treatment')\n",
    "plt.ylabel('Count')\n",
    "plt.show()"
   ]
  },
  {
   "cell_type": "markdown",
   "id": "8cf49e56-4d8a-43a0-a7e2-5bad22cd1eb8",
   "metadata": {},
   "source": [
    "### Insight 1: Overall Mental Health Treatment Seeking\n",
    "\n",
    "A count plot was created to analyze how many individuals in the tech industry have sought treatment for mental health issues.\n",
    "\n",
    "**Observation:**\n",
    "- The number of people who have sought treatment is slightly higher than those who have not.\n",
    "- This suggests that mental health challenges are relatively widespread, and a notable portion of the tech workforce is actively seeking help.\n",
    "\n",
    "**Implication:**\n",
    "- Organizations should acknowledge this trend and consider improving mental health resources, as it is clearly a concern for many employees."
   ]
  },
  {
   "cell_type": "markdown",
   "id": "d7fbaecb-006b-40d8-8a53-17f769dec6f6",
   "metadata": {},
   "source": [
    "#### Gender vs Treatment"
   ]
  },
  {
   "cell_type": "code",
   "execution_count": 27,
   "id": "dfef9371-20d8-467a-a4a0-a1ac07119094",
   "metadata": {},
   "outputs": [
    {
     "data": {
      "image/png": "[encoded data removed]",
      "text/plain": [
       "<Figure size 800x500 with 1 Axes>"
      ]
     },
     "metadata": {},
     "output_type": "display_data"
    }
   ],
   "source": [
    "plt.figure(figsize=(8,5))\n",
    "sns.countplot(data = df, x = 'Gender', hue = 'treatment', palette = 'Set1')\n",
    "plt.title('Mental Health treatment by Gender')\n",
    "plt.xlabel('Gender')\n",
    "plt.ylabel('Count')\n",
    "plt.legend(title='Sought Treatment')\n",
    "plt.show()"
   ]
  },
  {
   "cell_type": "markdown",
   "id": "f81ff232-2662-4ea1-b997-20e722083f84",
   "metadata": {},
   "source": [
    "### Insight 2: Mental Health Treatment by Gender\n",
    "\n",
    "A grouped count plot was created to examine how different gender identities seek mental health treatment.\n",
    "\n",
    "🧠 **Observation:**\n",
    "- Female employees appear to seek treatment **more** compared to male employees.\n",
    "- Individuals identifying as \"other\" show **higher** treatment-seeking behavior, although their count is relatively smaller.\n",
    "\n",
    "💡 **Implication:**\n",
    "- Gender plays a role in how openly mental health challenges are addressed in tech.\n",
    "- Companies may need to promote inclusive, gender-sensitive mental health programs to support all employees equally.\n"
   ]
  },
  {
   "cell_type": "markdown",
   "id": "a3fbb727-d358-4686-900f-4928ec0ec970",
   "metadata": {},
   "source": [
    "#### Treatment vs Age Group"
   ]
  },
  {
   "cell_type": "code",
   "execution_count": 28,
   "id": "e8ec7911-5396-41ce-bdda-c88f3b9d8c95",
   "metadata": {},
   "outputs": [
    {
     "data": {
      "image/png": "[encoded data removed]",
      "text/plain": [
       "<Figure size 800x500 with 1 Axes>"
      ]
     },
     "metadata": {},
     "output_type": "display_data"
    }
   ],
   "source": [
    "plt.figure(figsize=(8,5))\n",
    "sns.countplot(data=df, x='age_group', hue='treatment', palette='Set3')\n",
    "plt.title('Mental Health Treatment by Age Group')\n",
    "plt.xlabel('Age Group')\n",
    "plt.ylabel('Count')\n",
    "plt.legend(title='Sought Treatment')\n",
    "plt.show()"
   ]
  },
  {
   "cell_type": "markdown",
   "id": "59564293-44ca-4296-9a6b-fa4ec4f8495a",
   "metadata": {},
   "source": [
    "### Insight 3: Mental Health Treatment by Age Group\n",
    "\n",
    "A count plot comparing age groups with treatment status was created to uncover age-based patterns in mental health behavior.\n",
    "\n",
    "🧠 **Observation:**\n",
    "- Individuals in the **35–49 age group** have the **highest number** of people who have sought treatment.\n",
    "- In the **50+ group**, slightly more people are seeking treatment than not, indicating higher awareness or severity with age.\n",
    "- For the **18–24** and **25–34** groups, the number of people **not seeking treatment** is **higher** than those who did.\n",
    "\n",
    "💡 **Implication:**\n",
    "- Younger professionals (under 35) may be **less likely to seek help**, possibly due to stigma, lack of awareness, or early career pressure.\n",
    "- Middle-aged and older employees seem **more likely** to recognize and act on mental health needs.\n",
    "- Organizations should **increase awareness campaigns targeted at younger staff** and ensure easy access to confidential support services.\n"
   ]
  },
  {
   "cell_type": "markdown",
   "id": "1b9a383e-c4a2-42ef-adc7-0adb15742b1d",
   "metadata": {},
   "source": [
    "#### Work Interference vs. Treatment"
   ]
  },
  {
   "cell_type": "code",
   "execution_count": 29,
   "id": "85bb4811-df8c-4d9b-8a13-272fa4ff2f74",
   "metadata": {},
   "outputs": [
    {
     "data": {
      "image/png": "[encoded data removed]",
      "text/plain": [
       "<Figure size 800x500 with 1 Axes>"
      ]
     },
     "metadata": {},
     "output_type": "display_data"
    }
   ],
   "source": [
    "plt.figure(figsize=(8,5))\n",
    "sns.countplot(data=df, x='work_interfere', hue='treatment', palette='Pastel2')\n",
    "plt.title('Mental Health Treatment by Work Interference Level')\n",
    "plt.xlabel('Mental Health Interferes with Work')\n",
    "plt.ylabel('Count')\n",
    "plt.legend(title='Sought Treatment')\n",
    "plt.show()"
   ]
  },
  {
   "cell_type": "markdown",
   "id": "1cbe4659-a3c1-4678-a4ae-3ab30b148a81",
   "metadata": {},
   "source": [
    "### Insight 4: Work Interference vs. Treatment Seeking Behavior\n",
    "\n",
    "This analysis explores the relationship between how often mental health interferes with work performance and whether individuals seek treatment.\n",
    "\n",
    "🧠 **Observation:**\n",
    "- In all categories where individuals reported that mental health **interferes with work** (`Rarely`, `Sometimes`, `Often`), **most people sought treatment**.\n",
    "- Among those who answered **\"Never\"**, the majority did **not** seek treatment — likely because they did not perceive a need.\n",
    "- The **\"Don't know\"** category had **no visible data**, possibly due to missing or cleaned-out responses.\n",
    "\n",
    "💡 **Implication:**\n",
    "- There is a **clear positive correlation**: as mental health interference with work increases, so does the likelihood of seeking treatment.\n",
    "- This highlights that **work-related impact is a key motivator** for people to acknowledge and address mental health concerns.\n",
    "- Companies should not wait until mental health affects productivity — they should offer preventive resources and early support channels.\n"
   ]
  },
  {
   "cell_type": "markdown",
   "id": "4a930f03-5473-4a11-9972-978bd0752bc3",
   "metadata": {},
   "source": [
    "### Company Support vs Mental Health Treatment"
   ]
  },
  {
   "cell_type": "markdown",
   "id": "c045e443-cc8a-4604-a037-b602004bd504",
   "metadata": {},
   "source": [
    "#### 1.Treatment vs Benefits"
   ]
  },
  {
   "cell_type": "code",
   "execution_count": 30,
   "id": "fd95202a-fbff-481f-940b-3d273929746e",
   "metadata": {},
   "outputs": [
    {
     "data": {
      "image/png": "[encoded data removed]",
      "text/plain": [
       "<Figure size 700x400 with 1 Axes>"
      ]
     },
     "metadata": {},
     "output_type": "display_data"
    }
   ],
   "source": [
    "plt.figure(figsize=(7,4))\n",
    "sns.countplot(data=df, x='benefits', hue='treatment', palette='coolwarm')\n",
    "plt.title('Treatment vs. Employer-Provided Mental Health Benefits')\n",
    "plt.xlabel('Mental Health Benefits Offered')\n",
    "plt.ylabel('Count')\n",
    "plt.legend(title='Sought Treatment')\n",
    "plt.show()"
   ]
  },
  {
   "cell_type": "markdown",
   "id": "b401142b-f57a-42b2-87c2-2a6425326443",
   "metadata": {},
   "source": [
    "#### 1. Employer-Provided Mental Health Benefits\n",
    "\n",
    "🧠 **Observation:**\n",
    "- Individuals whose employers **offer mental health benefits** are more likely to seek treatment compared to those who don't receive such support.\n",
    "- Those without benefits show **lower treatment-seeking behavior**, possibly due to cost, accessibility, or lack of awareness.\n",
    "\n",
    "💡 **Implication:**\n",
    "- Providing mental health benefits is a **strong positive influence** on whether employees take action to address their mental health.\n",
    "- Organizations must prioritize including mental health coverage in their benefits packages.\n"
   ]
  },
  {
   "cell_type": "markdown",
   "id": "ed78ceeb-c387-43e7-b57c-fff21c42acb8",
   "metadata": {},
   "source": [
    "#### 2. Treatment vs. Care options"
   ]
  },
  {
   "cell_type": "code",
   "execution_count": 31,
   "id": "543b161d-e8e5-4e41-8436-b33a75047ed6",
   "metadata": {},
   "outputs": [
    {
     "data": {
      "image/png": "[encoded data removed]",
      "text/plain": [
       "<Figure size 700x400 with 1 Axes>"
      ]
     },
     "metadata": {},
     "output_type": "display_data"
    }
   ],
   "source": [
    "plt.figure(figsize=(7,4))\n",
    "sns.countplot(data=df, x='care_options', hue='treatment', palette='YlOrBr')\n",
    "plt.title('Treatment vs. Availability of Mental Health Care Options')\n",
    "plt.xlabel('Care Options at Work')\n",
    "plt.ylabel('Count')\n",
    "plt.legend(title='Sought Treatment')\n",
    "plt.show()"
   ]
  },
  {
   "cell_type": "markdown",
   "id": "2fb3c085-3077-4d68-8b6d-2c9bb992665a",
   "metadata": {},
   "source": [
    "#### 2. Availability of Mental Health Care Options\n",
    "\n",
    "🧠 **Observation:**\n",
    "- A significant number of individuals who reported having **available care options at work** sought treatment.\n",
    "- People without access to such care were **less likely** to seek help.\n",
    "\n",
    "💡 **Implication:**\n",
    "- Direct access to mental health care (e.g., counselors, support lines, programs) at the workplace boosts the chances that employees will seek support.\n",
    "- Companies should consider implementing **on-site or remote care options** for mental well-being.\n"
   ]
  },
  {
   "cell_type": "markdown",
   "id": "e6807229-5829-4c9f-a5b0-ff5aba6323e7",
   "metadata": {},
   "source": [
    "#### 3. Treatment vs. Anonymity"
   ]
  },
  {
   "cell_type": "code",
   "execution_count": 32,
   "id": "4188f3c9-c2f2-4092-ae96-83d3f12b7f5a",
   "metadata": {},
   "outputs": [
    {
     "data": {
      "image/png": "[encoded data removed]",
      "text/plain": [
       "<Figure size 700x400 with 1 Axes>"
      ]
     },
     "metadata": {},
     "output_type": "display_data"
    }
   ],
   "source": [
    "plt.figure(figsize=(7,4))\n",
    "sns.countplot(data=df, x='anonymity', hue='treatment', palette='Accent')\n",
    "plt.title('Treatment vs. Workplace Anonymity')\n",
    "plt.xlabel('Anonymity Protected at Work')\n",
    "plt.ylabel('Count')\n",
    "plt.legend(title='Sought Treatment')\n",
    "plt.show()"
   ]
  },
  {
   "cell_type": "markdown",
   "id": "84d30a29-f21f-4d27-936d-afe57c333340",
   "metadata": {},
   "source": [
    "#### 3. Workplace Anonymity in Seeking Help\n",
    "\n",
    "🧠 **Observation:**\n",
    "- The most frequent response to whether anonymity is protected at work was **\"Don't know.\"**\n",
    "- Within this group, **a large portion did not seek treatment**, possibly due to **uncertainty or lack of trust** in the workplace environment.\n",
    "- Compared to them, people who answered **\"Yes\"** to anonymity were more likely to seek treatment.\n",
    "\n",
    "💡 **Implication:**\n",
    "- **Uncertainty about workplace confidentiality discourages people from getting help.**\n",
    "- Even more than saying “No,” not knowing whether it's safe to seek help creates **hesitation and fear**.\n",
    "- Companies must **clearly communicate** their mental health policies and **guarantee anonymous access** to support systems.\n"
   ]
  },
  {
   "cell_type": "markdown",
   "id": "2434f8bd-6a16-4dd0-9a06-4adf5e38e81d",
   "metadata": {},
   "source": [
    "#### Family History vs Treatment"
   ]
  },
  {
   "cell_type": "code",
   "execution_count": 33,
   "id": "509287e9-cdc6-4757-a38a-b4846eae341d",
   "metadata": {},
   "outputs": [
    {
     "data": {
      "image/png": "[encoded data removed]",
      "text/plain": [
       "<Figure size 700x400 with 1 Axes>"
      ]
     },
     "metadata": {},
     "output_type": "display_data"
    }
   ],
   "source": [
    "plt.figure(figsize=(7,4))\n",
    "sns.countplot(data=df, x='family_history', hue='treatment', palette='coolwarm')\n",
    "plt.title('Treatment vs Family History of Mental Illness')\n",
    "plt.xlabel('Family History')\n",
    "plt.ylabel('Count')\n",
    "plt.legend(title='Sought Treatment')\n",
    "plt.show()"
   ]
  },
  {
   "cell_type": "markdown",
   "id": "fc67ff0e-7093-4c30-8547-30d2f1d465ec",
   "metadata": {},
   "source": [
    "#### Additional Insight: Family History vs. Treatment\n",
    "\n",
    "This analysis explores whether individuals with a **family history of mental illness** are more likely to seek treatment themselves.\n",
    "\n",
    "🧠 **Observation:**\n",
    "- A **large number of people** who reported having a family history of mental illness have **sought treatment**.\n",
    "- Those **without a family history** show a **lower treatment-seeking rate**.\n",
    "- This suggests a possible link between **awareness, early exposure**, or **less stigma** among those familiar with mental health issues.\n",
    "\n",
    "💡 **Implication:**\n",
    "- Family history plays a role in shaping attitudes toward mental health treatment.\n",
    "- People with firsthand exposure to mental illness in their families may be **more open**, **better informed**, or **more proactive** in seeking help.\n",
    "- Awareness campaigns could benefit from **peer storytelling** or **family-based messaging** to reduce stigma in others.\n"
   ]
  },
  {
   "cell_type": "markdown",
   "id": "f5f13198-b95f-40e9-b1af-ca233bc1114f",
   "metadata": {},
   "source": [
    "#### Self employed vs Treatment"
   ]
  },
  {
   "cell_type": "code",
   "execution_count": 34,
   "id": "a79977f3-2625-4766-9ed6-8e326a265ac8",
   "metadata": {},
   "outputs": [
    {
     "data": {
      "image/png": "[encoded data removed]",
      "text/plain": [
       "<Figure size 600x400 with 1 Axes>"
      ]
     },
     "metadata": {},
     "output_type": "display_data"
    }
   ],
   "source": [
    "plt.figure(figsize=(6,4))\n",
    "sns.countplot(data=df, x='self_employed', hue='treatment', palette='Set2')\n",
    "plt.title('Treatment Seeking by Employment Type')\n",
    "plt.xlabel('Self-Employed')\n",
    "plt.ylabel('Count')\n",
    "plt.legend(title='Sought Treatment')\n",
    "plt.show()"
   ]
  },
  {
   "cell_type": "markdown",
   "id": "f86d7eaa-cc50-46a1-8611-427295e03e4d",
   "metadata": {},
   "source": [
    "#### Additional Insight: Employment Type and Treatment Seeking\n",
    "\n",
    "This analysis compares treatment-seeking behavior across different types of employment: self-employed, salaried (non-self-employed), and those who preferred not to say.\n",
    "\n",
    "🧠 **Observation:**\n",
    "- For both **self-employed** and **non-self-employed** individuals, a **slightly higher number** sought treatment than those who did not.\n",
    "- Among those who **preferred not to say**, the number of individuals who sought treatment and those who didn’t was **equal**.\n",
    "- The treatment-seeking behavior appears **similar across employment types**, with **no strong disparity**.\n",
    "\n",
    "💡 **Implication:**\n",
    "- Mental health awareness may be **increasing across all types of employment**, not just in traditional jobs.\n",
    "- However, the equal split in the \"Prefer not to say\" group may indicate **privacy concerns** or **lack of clarity/support** in certain employment contexts.\n",
    "- Future policies and outreach should be inclusive of all working groups — **salaried, self-employed, and informal workers** alike.\n"
   ]
  },
  {
   "cell_type": "markdown",
   "id": "3a2637d6-8125-4029-b455-4fe0aa1c4d7b",
   "metadata": {},
   "source": [
    "#### Leave vs. Treatment"
   ]
  },
  {
   "cell_type": "code",
   "execution_count": 37,
   "id": "a3425eac-5f37-4576-b3f0-9cb094a65973",
   "metadata": {},
   "outputs": [
    {
     "data": {
      "image/png": "[encoded data removed]",
      "text/plain": [
       "<Figure size 600x400 with 1 Axes>"
      ]
     },
     "metadata": {},
     "output_type": "display_data"
    }
   ],
   "source": [
    "plt.figure(figsize=(6,4))\n",
    "sns.countplot(data=df, y='leave', hue='treatment', palette='Set2')\n",
    "plt.title('Treatment Seeking by Employment Type')\n",
    "plt.xlabel('Count')\n",
    "plt.ylabel('leave')\n",
    "plt.legend(title='Sought Treatment')\n",
    "plt.show()"
   ]
  },
  {
   "cell_type": "markdown",
   "id": "2c79a266-45ed-4f75-aae7-d31e9a56f3ba",
   "metadata": {},
   "source": [
    "#### Additional Insight: Leave Policy vs. Treatment Seeking\n",
    "\n",
    "This analysis explores how the perceived ease of taking a mental health leave influences an employee's decision to seek treatment.\n",
    "\n",
    "🧠 **Observation:**\n",
    "- In the groups where taking leave is perceived as **\"very difficult\" or \"somewhat difficult\"**, a **larger number of individuals** sought treatment. This may suggest that these individuals **pushed through obstacles** to get help, possibly indicating more severe needs or less organizational support.\n",
    "- In the **\"somewhat easy\"** group, the number of people seeking treatment is **slightly lower** than those who didn’t.\n",
    "- In the **\"very easy\"** category, the count of those who did and did not seek treatment is **approximately equal** — possibly due to early intervention or a more open culture.\n",
    "- In the **\"don't know\"** group, **more people did not seek treatment**, indicating uncertainty or lack of clear policies may be a barrier.\n",
    "\n",
    "💡 **Implication:**\n",
    "- The results show that **clarity and flexibility of leave policies** can influence treatment decisions.\n",
    "- Employees who are uncertain about or find it difficult to take leave may still seek help, but likely under greater stress or without organizational support.\n",
    "- Companies should ensure **transparent and accessible leave policies**, and actively communicate them to reduce hesitation and promote mental well-being.\n"
   ]
  },
  {
   "cell_type": "markdown",
   "id": "3f693136-f770-40fe-ba5b-34869a25f93b",
   "metadata": {},
   "source": [
    "#### Gender vs. Treatment (Normalized as %)"
   ]
  },
  {
   "cell_type": "code",
   "execution_count": 61,
   "id": "aab62232-babf-4eed-9dc2-c0ff175afc25",
   "metadata": {},
   "outputs": [
    {
     "data": {
      "image/png": "[encoded data removed]",
      "text/plain": [
       "<Figure size 700x500 with 1 Axes>"
      ]
     },
     "metadata": {},
     "output_type": "display_data"
    }
   ],
   "source": [
    "cross = pd.crosstab(df['Gender'], df['treatment'], normalize='index') * 100\n",
    "cross.plot(kind='bar', stacked=True, figsize=(7,5), colormap='Set2')\n",
    "plt.title(\"Treatment Seeking (%) by Gender\")\n",
    "plt.ylabel(\"Percentage\")\n",
    "plt.show()"
   ]
  },
  {
   "cell_type": "markdown",
   "id": "699c8eef-85bd-424e-b41c-f98f476c6f56",
   "metadata": {},
   "source": [
    "#### Bonus Insight: Gender vs. Treatment (Normalized Percentage)\n",
    "\n",
    "To understand the proportion of treatment-seeking behavior across different genders, a normalized (percentage-based) stacked bar chart was created.\n",
    "\n",
    "🧠 **Observation:**\n",
    "- A **larger proportion of females** sought treatment compared to males.\n",
    "- The \"other\" gender category had a **diverse distribution**, but due to its smaller sample size, the percentages should be interpreted cautiously.\n",
    "- Males had a **higher proportion** of individuals **not seeking treatment**, which could be influenced by social stigma or hesitation.\n",
    "\n",
    "💡 **Implication:**\n",
    "- Gender plays a role not just in raw counts, but also in **relative openness to seeking help**.\n",
    "- This visualization highlights potential **gender-related barriers or attitudes** toward mental health support, which employers and policy makers should consider when designing inclusive well-being programs.\n"
   ]
  },
  {
   "cell_type": "markdown",
   "id": "c2c318a0-d14b-4be9-8994-039619a0c764",
   "metadata": {},
   "source": [
    "# Analysis Done using SQL"
   ]
  },
  {
   "cell_type": "markdown",
   "id": "9a35050d-5bcb-4d0d-b3ee-6fe9c5d6cc18",
   "metadata": {},
   "source": [
    "### Creating an In-Memory SQL database"
   ]
  },
  {
   "cell_type": "code",
   "execution_count": 38,
   "id": "299b528b-bd0e-4958-bd58-af0b13a207bf",
   "metadata": {},
   "outputs": [
    {
     "data": {
      "text/plain": [
       "1250"
      ]
     },
     "execution_count": 38,
     "metadata": {},
     "output_type": "execute_result"
    }
   ],
   "source": [
    "import sqlite3\n",
    "\n",
    "# Create a connection to in-memory SQLite database\n",
    "conn = sqlite3.connect(':memory:')\n",
    "df.to_sql('mental_health', conn, index=False, if_exists='replace')"
   ]
  },
  {
   "cell_type": "markdown",
   "id": "68807a29-0049-4d77-aa38-e5b1409fc135",
   "metadata": {},
   "source": [
    "### Insights by using SQL"
   ]
  },
  {
   "cell_type": "markdown",
   "id": "553db2ea-5fad-45fc-9f5d-bd4c1cbb3a0b",
   "metadata": {},
   "source": [
    "#### Total number of Responses"
   ]
  },
  {
   "cell_type": "code",
   "execution_count": 42,
   "id": "279aaada-6401-44b7-8806-78b68f852d8a",
   "metadata": {},
   "outputs": [
    {
     "data": {
      "text/html": [
       "<div>\n",
       "<style scoped>\n",
       "    .dataframe tbody tr th:only-of-type {\n",
       "        vertical-align: middle;\n",
       "    }\n",
       "\n",
       "    .dataframe tbody tr th {\n",
       "        vertical-align: top;\n",
       "    }\n",
       "\n",
       "    .dataframe thead th {\n",
       "        text-align: right;\n",
       "    }\n",
       "</style>\n",
       "<table border=\"1\" class=\"dataframe\">\n",
       "  <thead>\n",
       "    <tr style=\"text-align: right;\">\n",
       "      <th></th>\n",
       "      <th>total_responses</th>\n",
       "    </tr>\n",
       "  </thead>\n",
       "  <tbody>\n",
       "    <tr>\n",
       "      <th>0</th>\n",
       "      <td>1250</td>\n",
       "    </tr>\n",
       "  </tbody>\n",
       "</table>\n",
       "</div>"
      ],
      "text/plain": [
       "   total_responses\n",
       "0             1250"
      ]
     },
     "execution_count": 42,
     "metadata": {},
     "output_type": "execute_result"
    }
   ],
   "source": [
    "query = \"\"\"\n",
    "SELECT COUNT(*) AS total_responses\n",
    "FROM mental_health;\n",
    "\"\"\"\n",
    "pd.read_sql_query(query, conn)"
   ]
  },
  {
   "cell_type": "markdown",
   "id": "28e82fe6-105e-4c0a-aa38-4d63c83a8589",
   "metadata": {},
   "source": [
    "#### 1. Total Number of Responses\n",
    "We queried the total number of survey responses available in the dataset.\n",
    "\n",
    "📌 **Insight:**\n",
    "- The dataset contains a total of **1250** responses related to mental health in the tech industry."
   ]
  },
  {
   "cell_type": "markdown",
   "id": "fe956190-3de4-4d6c-876b-cfaad97537b1",
   "metadata": {},
   "source": [
    "#### Calculating the no of people seeking treatment"
   ]
  },
  {
   "cell_type": "code",
   "execution_count": 43,
   "id": "23d2ec5b-270e-4f91-bc35-b1cfd0d76158",
   "metadata": {},
   "outputs": [
    {
     "data": {
      "text/html": [
       "<div>\n",
       "<style scoped>\n",
       "    .dataframe tbody tr th:only-of-type {\n",
       "        vertical-align: middle;\n",
       "    }\n",
       "\n",
       "    .dataframe tbody tr th {\n",
       "        vertical-align: top;\n",
       "    }\n",
       "\n",
       "    .dataframe thead th {\n",
       "        text-align: right;\n",
       "    }\n",
       "</style>\n",
       "<table border=\"1\" class=\"dataframe\">\n",
       "  <thead>\n",
       "    <tr style=\"text-align: right;\">\n",
       "      <th></th>\n",
       "      <th>treatment</th>\n",
       "      <th>count</th>\n",
       "    </tr>\n",
       "  </thead>\n",
       "  <tbody>\n",
       "    <tr>\n",
       "      <th>0</th>\n",
       "      <td>No</td>\n",
       "      <td>619</td>\n",
       "    </tr>\n",
       "    <tr>\n",
       "      <th>1</th>\n",
       "      <td>Yes</td>\n",
       "      <td>631</td>\n",
       "    </tr>\n",
       "  </tbody>\n",
       "</table>\n",
       "</div>"
      ],
      "text/plain": [
       "  treatment  count\n",
       "0        No    619\n",
       "1       Yes    631"
      ]
     },
     "execution_count": 43,
     "metadata": {},
     "output_type": "execute_result"
    }
   ],
   "source": [
    "query1 = \"\"\"\n",
    "SELECT treatment, COUNT(*) AS count\n",
    "FROM mental_health\n",
    "GROUP BY treatment;\n",
    "\"\"\"\n",
    "pd.read_sql_query(query1, conn)"
   ]
  },
  {
   "cell_type": "markdown",
   "id": "b6814d29-8cb0-4d2f-a30e-2b08532d7f1f",
   "metadata": {},
   "source": [
    "#### 2. Number of People Who Sought Treatment\n",
    "We calculated how many people reported seeking mental health treatment vs. those who didn’t.\n",
    "\n",
    "🧠 **Insight:**\n",
    "- 631 people seeked treatment while 619 didn't.\n",
    "- The no of people seeking treatment is slightly higher compared to those who didn’t.\n",
    "- This indicates growing awareness and willingness to address mental health issues in the tech community."
   ]
  },
  {
   "cell_type": "markdown",
   "id": "5b3c7bb7-d78e-4044-a902-4ed7f1ed0d28",
   "metadata": {},
   "source": [
    "#### Treatment seeking by Gender"
   ]
  },
  {
   "cell_type": "code",
   "execution_count": 44,
   "id": "537dfc9a-3971-43f1-b5f5-08f4b4214f6e",
   "metadata": {},
   "outputs": [
    {
     "data": {
      "text/html": [
       "<div>\n",
       "<style scoped>\n",
       "    .dataframe tbody tr th:only-of-type {\n",
       "        vertical-align: middle;\n",
       "    }\n",
       "\n",
       "    .dataframe tbody tr th {\n",
       "        vertical-align: top;\n",
       "    }\n",
       "\n",
       "    .dataframe thead th {\n",
       "        text-align: right;\n",
       "    }\n",
       "</style>\n",
       "<table border=\"1\" class=\"dataframe\">\n",
       "  <thead>\n",
       "    <tr style=\"text-align: right;\">\n",
       "      <th></th>\n",
       "      <th>Gender</th>\n",
       "      <th>treatment</th>\n",
       "      <th>count</th>\n",
       "    </tr>\n",
       "  </thead>\n",
       "  <tbody>\n",
       "    <tr>\n",
       "      <th>0</th>\n",
       "      <td>female</td>\n",
       "      <td>No</td>\n",
       "      <td>77</td>\n",
       "    </tr>\n",
       "    <tr>\n",
       "      <th>1</th>\n",
       "      <td>female</td>\n",
       "      <td>Yes</td>\n",
       "      <td>172</td>\n",
       "    </tr>\n",
       "    <tr>\n",
       "      <th>2</th>\n",
       "      <td>male</td>\n",
       "      <td>No</td>\n",
       "      <td>538</td>\n",
       "    </tr>\n",
       "    <tr>\n",
       "      <th>3</th>\n",
       "      <td>male</td>\n",
       "      <td>Yes</td>\n",
       "      <td>450</td>\n",
       "    </tr>\n",
       "    <tr>\n",
       "      <th>4</th>\n",
       "      <td>other</td>\n",
       "      <td>No</td>\n",
       "      <td>4</td>\n",
       "    </tr>\n",
       "    <tr>\n",
       "      <th>5</th>\n",
       "      <td>other</td>\n",
       "      <td>Yes</td>\n",
       "      <td>9</td>\n",
       "    </tr>\n",
       "  </tbody>\n",
       "</table>\n",
       "</div>"
      ],
      "text/plain": [
       "   Gender treatment  count\n",
       "0  female        No     77\n",
       "1  female       Yes    172\n",
       "2    male        No    538\n",
       "3    male       Yes    450\n",
       "4   other        No      4\n",
       "5   other       Yes      9"
      ]
     },
     "execution_count": 44,
     "metadata": {},
     "output_type": "execute_result"
    }
   ],
   "source": [
    "query2 = \"\"\"\n",
    "SELECT Gender, treatment, COUNT(*) AS count\n",
    "FROM mental_health\n",
    "GROUP BY Gender, treatment\n",
    "ORDER BY Gender;\n",
    "\"\"\"\n",
    "pd.read_sql_query(query2, conn)"
   ]
  },
  {
   "cell_type": "markdown",
   "id": "a00f0f4d-84c3-4d78-86ac-a96ca3b87526",
   "metadata": {},
   "source": [
    "#### 3. Treatment Seeking by Gender\n",
    "This query helped us understand how treatment-seeking behavior varies across different gender identities.\n",
    "\n",
    "💡 **Insight:**\n",
    "- A higher proportion of **females** sought treatment compared to males.\n",
    "- The **\"other\"** gender group had a mixed pattern, possibly due to fewer responses and varied lived experiences.\n",
    "- Males had more individuals who did **not** seek treatment, suggesting potential stigma or hesitation."
   ]
  },
  {
   "cell_type": "markdown",
   "id": "d99b09da-167d-4d08-96d3-9d1d0ee4157c",
   "metadata": {},
   "source": [
    "#### Top 5 countries by Participation"
   ]
  },
  {
   "cell_type": "code",
   "execution_count": 50,
   "id": "c9b5d41d-3cfa-4faf-becc-55230a6192a5",
   "metadata": {},
   "outputs": [
    {
     "data": {
      "text/html": [
       "<div>\n",
       "<style scoped>\n",
       "    .dataframe tbody tr th:only-of-type {\n",
       "        vertical-align: middle;\n",
       "    }\n",
       "\n",
       "    .dataframe tbody tr th {\n",
       "        vertical-align: top;\n",
       "    }\n",
       "\n",
       "    .dataframe thead th {\n",
       "        text-align: right;\n",
       "    }\n",
       "</style>\n",
       "<table border=\"1\" class=\"dataframe\">\n",
       "  <thead>\n",
       "    <tr style=\"text-align: right;\">\n",
       "      <th></th>\n",
       "      <th>Country</th>\n",
       "      <th>responses</th>\n",
       "    </tr>\n",
       "  </thead>\n",
       "  <tbody>\n",
       "    <tr>\n",
       "      <th>0</th>\n",
       "      <td>United States</td>\n",
       "      <td>745</td>\n",
       "    </tr>\n",
       "    <tr>\n",
       "      <th>1</th>\n",
       "      <td>United Kingdom</td>\n",
       "      <td>184</td>\n",
       "    </tr>\n",
       "    <tr>\n",
       "      <th>2</th>\n",
       "      <td>Canada</td>\n",
       "      <td>72</td>\n",
       "    </tr>\n",
       "    <tr>\n",
       "      <th>3</th>\n",
       "      <td>Germany</td>\n",
       "      <td>45</td>\n",
       "    </tr>\n",
       "    <tr>\n",
       "      <th>4</th>\n",
       "      <td>Netherlands</td>\n",
       "      <td>27</td>\n",
       "    </tr>\n",
       "  </tbody>\n",
       "</table>\n",
       "</div>"
      ],
      "text/plain": [
       "          Country  responses\n",
       "0   United States        745\n",
       "1  United Kingdom        184\n",
       "2          Canada         72\n",
       "3         Germany         45\n",
       "4     Netherlands         27"
      ]
     },
     "execution_count": 50,
     "metadata": {},
     "output_type": "execute_result"
    }
   ],
   "source": [
    "query3 = \"\"\"\n",
    "SELECT Country, COUNT(*) AS responses\n",
    "FROM mental_health\n",
    "GROUP BY Country\n",
    "ORDER BY responses DESC\n",
    "LIMIT 5;\n",
    "\"\"\"\n",
    "pd.read_sql_query(query3, conn)"
   ]
  },
  {
   "cell_type": "markdown",
   "id": "a67c71e5-4ef2-4de9-8b7b-c513fcf4b6df",
   "metadata": {},
   "source": [
    "#### 4. Top 5 Countries by Participation\n",
    "We identified the top 5 countries with the highest number of participants.\n",
    "\n",
    "🌍 **Insight:**\n",
    "- The **United States**, **United Kingdom**, and **Canada** were the top contributors.\n",
    "- These countries likely have more tech workers or higher survey visibility.\n",
    "- The insights drawn may be more relevant to these countries due to the larger sample size."
   ]
  },
  {
   "cell_type": "markdown",
   "id": "d08ce854-09f3-45e2-bba2-46f2bc7f98d4",
   "metadata": {},
   "source": [
    "#### Treatment rate on the basis of age group"
   ]
  },
  {
   "cell_type": "code",
   "execution_count": 55,
   "id": "8d704a02-854c-4f11-a368-32bbc5c2bf8f",
   "metadata": {},
   "outputs": [
    {
     "data": {
      "text/html": [
       "<div>\n",
       "<style scoped>\n",
       "    .dataframe tbody tr th:only-of-type {\n",
       "        vertical-align: middle;\n",
       "    }\n",
       "\n",
       "    .dataframe tbody tr th {\n",
       "        vertical-align: top;\n",
       "    }\n",
       "\n",
       "    .dataframe thead th {\n",
       "        text-align: right;\n",
       "    }\n",
       "</style>\n",
       "<table border=\"1\" class=\"dataframe\">\n",
       "  <thead>\n",
       "    <tr style=\"text-align: right;\">\n",
       "      <th></th>\n",
       "      <th>age_group</th>\n",
       "      <th>treatment_rate_percent</th>\n",
       "    </tr>\n",
       "  </thead>\n",
       "  <tbody>\n",
       "    <tr>\n",
       "      <th>0</th>\n",
       "      <td>18–24</td>\n",
       "      <td>44.87</td>\n",
       "    </tr>\n",
       "    <tr>\n",
       "      <th>1</th>\n",
       "      <td>25–34</td>\n",
       "      <td>48.94</td>\n",
       "    </tr>\n",
       "    <tr>\n",
       "      <th>2</th>\n",
       "      <td>35–49</td>\n",
       "      <td>55.62</td>\n",
       "    </tr>\n",
       "    <tr>\n",
       "      <th>3</th>\n",
       "      <td>50+</td>\n",
       "      <td>54.84</td>\n",
       "    </tr>\n",
       "  </tbody>\n",
       "</table>\n",
       "</div>"
      ],
      "text/plain": [
       "  age_group  treatment_rate_percent\n",
       "0     18–24                   44.87\n",
       "1     25–34                   48.94\n",
       "2     35–49                   55.62\n",
       "3       50+                   54.84"
      ]
     },
     "execution_count": 55,
     "metadata": {},
     "output_type": "execute_result"
    }
   ],
   "source": [
    "query4 = \"\"\"\n",
    "SELECT age_group,\n",
    "ROUND(SUM(CASE WHEN treatment = 'Yes' THEN 1 ELSE 0 END) * 100.0 / COUNT(*), 2) AS treatment_rate_percent\n",
    "FROM mental_health\n",
    "GROUP BY age_group\n",
    "ORDER BY age_group;\n",
    "\"\"\"\n",
    "pd.read_sql_query(query4, conn)"
   ]
  },
  {
   "cell_type": "markdown",
   "id": "9f1033a1-c2f8-4af7-b270-93168b0bd372",
   "metadata": {},
   "source": [
    "#### 4. Treatment Rate by Age Group (SQL-Based)\n",
    "\n",
    "We calculated the percentage of individuals in each age group who reported seeking mental health treatment.\n",
    "\n",
    "🧠 **Insight:**\n",
    "- The **35–49 age group** has the **highest treatment-seeking rate** at 55.62%, followed closely by the **50+ group** at 54.84%.\n",
    "- Younger respondents, especially those aged **18–24**, have the **lowest treatment rate** at 44.87%.\n",
    "- The trend suggests that **older professionals may be more willing** to acknowledge and seek treatment for mental health issues, possibly due to increased awareness, experience, or access to benefits.\n",
    "- Conversely, **younger employees** may face **stigma, denial, or lack of resources** despite being at risk — indicating a gap that employers and HR teams could address through education and support systems."
   ]
  },
  {
   "cell_type": "markdown",
   "id": "d0546735-63fc-4178-8dfb-02c315870b1f",
   "metadata": {},
   "source": [
    "#### Treatment by Country (Top 10 by Participation)"
   ]
  },
  {
   "cell_type": "code",
   "execution_count": 54,
   "id": "d8f7f307-c47f-4b21-baf4-a936e128b3dd",
   "metadata": {},
   "outputs": [
    {
     "data": {
      "text/html": [
       "<div>\n",
       "<style scoped>\n",
       "    .dataframe tbody tr th:only-of-type {\n",
       "        vertical-align: middle;\n",
       "    }\n",
       "\n",
       "    .dataframe tbody tr th {\n",
       "        vertical-align: top;\n",
       "    }\n",
       "\n",
       "    .dataframe thead th {\n",
       "        text-align: right;\n",
       "    }\n",
       "</style>\n",
       "<table border=\"1\" class=\"dataframe\">\n",
       "  <thead>\n",
       "    <tr style=\"text-align: right;\">\n",
       "      <th></th>\n",
       "      <th>Country</th>\n",
       "      <th>treatment_yes</th>\n",
       "      <th>treatment_no</th>\n",
       "      <th>total_responses</th>\n",
       "    </tr>\n",
       "  </thead>\n",
       "  <tbody>\n",
       "    <tr>\n",
       "      <th>0</th>\n",
       "      <td>United States</td>\n",
       "      <td>407</td>\n",
       "      <td>338</td>\n",
       "      <td>745</td>\n",
       "    </tr>\n",
       "    <tr>\n",
       "      <th>1</th>\n",
       "      <td>United Kingdom</td>\n",
       "      <td>92</td>\n",
       "      <td>92</td>\n",
       "      <td>184</td>\n",
       "    </tr>\n",
       "    <tr>\n",
       "      <th>2</th>\n",
       "      <td>Canada</td>\n",
       "      <td>37</td>\n",
       "      <td>35</td>\n",
       "      <td>72</td>\n",
       "    </tr>\n",
       "    <tr>\n",
       "      <th>3</th>\n",
       "      <td>Germany</td>\n",
       "      <td>21</td>\n",
       "      <td>24</td>\n",
       "      <td>45</td>\n",
       "    </tr>\n",
       "    <tr>\n",
       "      <th>4</th>\n",
       "      <td>Netherlands</td>\n",
       "      <td>9</td>\n",
       "      <td>18</td>\n",
       "      <td>27</td>\n",
       "    </tr>\n",
       "    <tr>\n",
       "      <th>5</th>\n",
       "      <td>Ireland</td>\n",
       "      <td>13</td>\n",
       "      <td>14</td>\n",
       "      <td>27</td>\n",
       "    </tr>\n",
       "    <tr>\n",
       "      <th>6</th>\n",
       "      <td>Australia</td>\n",
       "      <td>13</td>\n",
       "      <td>8</td>\n",
       "      <td>21</td>\n",
       "    </tr>\n",
       "    <tr>\n",
       "      <th>7</th>\n",
       "      <td>France</td>\n",
       "      <td>2</td>\n",
       "      <td>11</td>\n",
       "      <td>13</td>\n",
       "    </tr>\n",
       "    <tr>\n",
       "      <th>8</th>\n",
       "      <td>India</td>\n",
       "      <td>3</td>\n",
       "      <td>7</td>\n",
       "      <td>10</td>\n",
       "    </tr>\n",
       "    <tr>\n",
       "      <th>9</th>\n",
       "      <td>New Zealand</td>\n",
       "      <td>5</td>\n",
       "      <td>3</td>\n",
       "      <td>8</td>\n",
       "    </tr>\n",
       "  </tbody>\n",
       "</table>\n",
       "</div>"
      ],
      "text/plain": [
       "          Country  treatment_yes  treatment_no  total_responses\n",
       "0   United States            407           338              745\n",
       "1  United Kingdom             92            92              184\n",
       "2          Canada             37            35               72\n",
       "3         Germany             21            24               45\n",
       "4     Netherlands              9            18               27\n",
       "5         Ireland             13            14               27\n",
       "6       Australia             13             8               21\n",
       "7          France              2            11               13\n",
       "8           India              3             7               10\n",
       "9     New Zealand              5             3                8"
      ]
     },
     "execution_count": 54,
     "metadata": {},
     "output_type": "execute_result"
    }
   ],
   "source": [
    "query5 = \"\"\"\n",
    "SELECT Country,\n",
    "SUM(CASE WHEN treatment = 'Yes' THEN 1 ELSE 0 END) AS treatment_yes,\n",
    "SUM(CASE WHEN treatment = 'No' THEN 1 ELSE 0 END) AS treatment_no,\n",
    "COUNT(*) AS total_responses\n",
    "FROM mental_health\n",
    "GROUP BY Country\n",
    "ORDER BY total_responses DESC\n",
    "LIMIT 10;\n",
    "\"\"\"\n",
    "pd.read_sql_query(query5, conn)"
   ]
  },
  {
   "cell_type": "markdown",
   "id": "eee47f06-2303-451d-925f-4f11367c5720",
   "metadata": {},
   "source": [
    "#### 5. Treatment Summary by Country (Top 10 by Participation)\n",
    "\n",
    "This analysis highlights the number of individuals who sought or did not seek treatment for mental health issues across the **top 10 countries** with the highest response rates.\n",
    "\n",
    "🧠 **Insight:**\n",
    "- The **United States** dominates the dataset in terms of participation and also has a relatively high number of people who sought treatment (407), though a large group (338) did not.\n",
    "- In the **United Kingdom**, the number of people seeking and not seeking treatment is **exactly equal**, suggesting a balanced mental health landscape or mixed cultural/organizational support.\n",
    "- Countries like **Canada** and **Australia** also show a fairly balanced distribution, with a slight lean toward seeking treatment.\n",
    "- On the other hand, countries such as **France** and **India** show a much **lower number of individuals seeking help**, which could reflect stigma, lack of access, or less open workplace policies.\n",
    "- While these results are not generalizable to entire populations, they offer a valuable snapshot of how **geographic and cultural factors** may influence mental health behavior in the tech industry.\n",
    "\n",
    "💡 **Implication:**\n",
    "Organizations across different countries should tailor their mental health initiatives by understanding the unique **barriers and enablers** present in their region.\n"
   ]
  },
  {
   "cell_type": "markdown",
   "id": "2c65453e-a167-44c2-96cd-f47630b98419",
   "metadata": {},
   "source": [
    "#### Treatment rate by Country(% format)"
   ]
  },
  {
   "cell_type": "code",
   "execution_count": 52,
   "id": "ceca212b-24d8-4620-b4b9-fd5132b07fd6",
   "metadata": {},
   "outputs": [
    {
     "data": {
      "text/html": [
       "<div>\n",
       "<style scoped>\n",
       "    .dataframe tbody tr th:only-of-type {\n",
       "        vertical-align: middle;\n",
       "    }\n",
       "\n",
       "    .dataframe tbody tr th {\n",
       "        vertical-align: top;\n",
       "    }\n",
       "\n",
       "    .dataframe thead th {\n",
       "        text-align: right;\n",
       "    }\n",
       "</style>\n",
       "<table border=\"1\" class=\"dataframe\">\n",
       "  <thead>\n",
       "    <tr style=\"text-align: right;\">\n",
       "      <th></th>\n",
       "      <th>Country</th>\n",
       "      <th>treatment_rate_percent</th>\n",
       "      <th>total_responses</th>\n",
       "    </tr>\n",
       "  </thead>\n",
       "  <tbody>\n",
       "    <tr>\n",
       "      <th>0</th>\n",
       "      <td>Australia</td>\n",
       "      <td>61.90</td>\n",
       "      <td>21</td>\n",
       "    </tr>\n",
       "    <tr>\n",
       "      <th>1</th>\n",
       "      <td>United States</td>\n",
       "      <td>54.63</td>\n",
       "      <td>745</td>\n",
       "    </tr>\n",
       "    <tr>\n",
       "      <th>2</th>\n",
       "      <td>Canada</td>\n",
       "      <td>51.39</td>\n",
       "      <td>72</td>\n",
       "    </tr>\n",
       "    <tr>\n",
       "      <th>3</th>\n",
       "      <td>United Kingdom</td>\n",
       "      <td>50.00</td>\n",
       "      <td>184</td>\n",
       "    </tr>\n",
       "    <tr>\n",
       "      <th>4</th>\n",
       "      <td>Ireland</td>\n",
       "      <td>48.15</td>\n",
       "      <td>27</td>\n",
       "    </tr>\n",
       "    <tr>\n",
       "      <th>5</th>\n",
       "      <td>Germany</td>\n",
       "      <td>46.67</td>\n",
       "      <td>45</td>\n",
       "    </tr>\n",
       "    <tr>\n",
       "      <th>6</th>\n",
       "      <td>Netherlands</td>\n",
       "      <td>33.33</td>\n",
       "      <td>27</td>\n",
       "    </tr>\n",
       "    <tr>\n",
       "      <th>7</th>\n",
       "      <td>France</td>\n",
       "      <td>15.38</td>\n",
       "      <td>13</td>\n",
       "    </tr>\n",
       "  </tbody>\n",
       "</table>\n",
       "</div>"
      ],
      "text/plain": [
       "          Country  treatment_rate_percent  total_responses\n",
       "0       Australia                   61.90               21\n",
       "1   United States                   54.63              745\n",
       "2          Canada                   51.39               72\n",
       "3  United Kingdom                   50.00              184\n",
       "4         Ireland                   48.15               27\n",
       "5         Germany                   46.67               45\n",
       "6     Netherlands                   33.33               27\n",
       "7          France                   15.38               13"
      ]
     },
     "execution_count": 52,
     "metadata": {},
     "output_type": "execute_result"
    }
   ],
   "source": [
    "query6 = \"\"\"\n",
    "SELECT Country,\n",
    "ROUND(SUM(CASE WHEN treatment = 'Yes' THEN 1 ELSE 0 END) * 100.0 / COUNT(*), 2) AS treatment_rate_percent,\n",
    "COUNT(*) AS total_responses\n",
    "FROM mental_health\n",
    "GROUP BY Country\n",
    "HAVING total_responses > 10\n",
    "ORDER BY treatment_rate_percent DESC;\n",
    "\"\"\"\n",
    "pd.read_sql_query(query6, conn)"
   ]
  },
  {
   "cell_type": "markdown",
   "id": "da240b0a-df6f-4aae-b496-3c4813400405",
   "metadata": {},
   "source": [
    "#### Treatment Rate by Country (% of Respondents Seeking Treatment)\n",
    "\n",
    "This query calculates the **percentage of people who sought treatment** among all respondents in each country (filtered to countries with more than 10 responses).\n",
    "\n",
    "🧠 **Insight:**\n",
    "- **Australia** shows the highest treatment rate (61.90%), suggesting either better access to mental health resources, more open workplace policies, or reduced stigma.\n",
    "- The **United States**, **Canada**, and **United Kingdom** all have **treatment rates above 50%**, reflecting relatively strong awareness and support systems.\n",
    "- **Germany** and **Ireland** are in the middle, while **Netherlands** and **France** have noticeably **lower treatment rates**.\n",
    "- **France** in particular shows a **very low rate of treatment (15.38%)**, which may indicate significant cultural stigma, lack of workplace support, or accessibility issues.\n",
    "\n",
    "💡 **Implication:**\n",
    "- While total responses differ per country, **treatment rate (%) helps normalize** the comparison and gives a clearer view of how countries vary in terms of mental health behavior.\n",
    "- These differences can guide **region-specific mental health programs**, awareness campaigns, and employer policies.\n",
    "\n",
    "> Note: These insights are drawn from survey participants and may not fully represent national trends but do offer valuable patterns within the tech industry.\n"
   ]
  },
  {
   "cell_type": "code",
   "execution_count": null,
   "id": "5d8dc1fd-0816-4151-8cc4-fc1b9d30a612",
   "metadata": {},
   "outputs": [],
   "source": []
  },
  {
   "cell_type": "markdown",
   "id": "d92b405c-5120-46a0-833d-43f74e648d89",
   "metadata": {},
   "source": [
    "# 🧾 Final Summary & Business Recommendations\n",
    "\n",
    "### 🧠 Project Overview\n",
    "This project investigates the state of mental health in the tech industry using a survey dataset. It combines **Python-based exploratory analysis**, **data cleaning**, **visualizations**, and **SQL queries** to uncover insights into treatment-seeking behavior, demographic patterns, and workplace influences.\n",
    "\n",
    "---\n",
    "\n",
    "### 🔍 Key Insights\n",
    "\n",
    "#### 📌 Demographic & Behavioral Trends:\n",
    "- **Age groups 35–49 and 50+** showed the **highest treatment-seeking rates**, suggesting that older professionals may be more open or in greater need of mental health care.\n",
    "- **Females** were more likely to seek treatment than males. Males had a higher proportion of respondents who did **not** seek treatment, indicating possible stigma or hesitation.\n",
    "\n",
    "#### 🌍 Country-Wise Observations:\n",
    "- The **United States** had the highest participation and a moderate treatment rate (~55%).\n",
    "- **Australia** had the **highest treatment rate** (62%), while **France** showed the **lowest** (15%), indicating significant cultural or systemic variation in mental health support.\n",
    "\n",
    "#### 🏢 Workplace & Policy-Related Findings:\n",
    "- Respondents reporting **clear leave policies and benefits** were more likely to seek treatment.\n",
    "- Lack of clarity (e.g., “Don’t know” in anonymity or leave options) correlated with **lower treatment rates**.\n",
    "- People with a **family history** of mental illness or **more severe work interference** were more likely to seek help.\n",
    "\n",
    "---\n",
    "\n",
    "### ✅ Business Recommendations\n",
    "\n",
    "1. **Promote Awareness & Normalize Conversations**\n",
    "   - Especially targeted toward younger professionals and males who show lower treatment rates.\n",
    "   - Create open forums or peer-support systems within tech companies.\n",
    "\n",
    "2. **Clarify and Communicate Mental Health Policies**\n",
    "   - Ensure leave policies, anonymity, and access to resources are well communicated.\n",
    "   - Use feedback mechanisms to assess if employees understand their options.\n",
    "\n",
    "3. **Invest in Global, Culture-Sensitive Programs**\n",
    "   - Different countries show different treatment behaviors. Avoid a one-size-fits-all approach.\n",
    "   - Customize initiatives for regions like **France or the Netherlands**, where treatment rates are low.\n",
    "\n",
    "4. **Proactive Intervention**\n",
    "   - Use internal surveys or HR data to identify age groups or roles where treatment is less likely but risk is higher.\n",
    "   - Provide confidential access to professionals, especially for employees with work-life interference.\n",
    "\n",
    "---\n",
    "\n",
    "### 📁 Tools & Techniques Used:\n",
    "- **Python (Pandas, Seaborn, Matplotlib)** for data wrangling and visualization\n",
    "- **SQLite + SQL queries** for structured data insights\n",
    "- **Jupyter Notebook** for interactive analysis and documentation\n",
    "\n",
    "---\n",
    "\n",
    "### ✅ Final Note:\n",
    "This analysis highlights the importance of **data-driven mental health strategies** in the tech industry. By understanding who is and isn’t seeking help, organizations can implement targeted, effective policies that support their employees’ well-being.\n",
    "\n"
   ]
  }
 ],
 "metadata": {
  "kernelspec": {
   "display_name": "Python [conda env:base] *",
   "language": "python",
   "name": "conda-base-py"
  },
  "language_info": {
   "codemirror_mode": {
    "name": "ipython",
    "version": 3
   },
   "file_extension": ".py",
   "mimetype": "text/x-python",
   "name": "python",
   "nbconvert_exporter": "python",
   "pygments_lexer": "ipython3",
   "version": "3.13.5"
  }
 },
 "nbformat": 4,
 "nbformat_minor": 5
}
